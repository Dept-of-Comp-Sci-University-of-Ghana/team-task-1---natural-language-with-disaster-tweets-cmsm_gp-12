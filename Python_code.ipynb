{
 "cells": [
  {
   "cell_type": "code",
   "execution_count": 2,
   "id": "2481631d",
   "metadata": {},
   "outputs": [
    {
     "name": "stdout",
     "output_type": "stream",
     "text": [
      "Requirement already satisfied: contractions in ./opt/anaconda3/lib/python3.9/site-packages (0.1.73)\n",
      "Requirement already satisfied: textsearch>=0.0.21 in ./opt/anaconda3/lib/python3.9/site-packages (from contractions) (0.0.24)\n",
      "Requirement already satisfied: pyahocorasick in ./opt/anaconda3/lib/python3.9/site-packages (from textsearch>=0.0.21->contractions) (2.0.0)\n",
      "Requirement already satisfied: anyascii in ./opt/anaconda3/lib/python3.9/site-packages (from textsearch>=0.0.21->contractions) (0.3.2)\n",
      "Requirement already satisfied: SpellChecker in ./opt/anaconda3/lib/python3.9/site-packages (0.4)\n",
      "Requirement already satisfied: setuptools in ./opt/anaconda3/lib/python3.9/site-packages (from SpellChecker) (63.4.1)\n",
      "Requirement already satisfied: inexactsearch in ./opt/anaconda3/lib/python3.9/site-packages (from SpellChecker) (1.0.2)\n",
      "Requirement already satisfied: silpa-common>=0.3 in ./opt/anaconda3/lib/python3.9/site-packages (from inexactsearch->SpellChecker) (0.3)\n",
      "Requirement already satisfied: soundex>=1.0 in ./opt/anaconda3/lib/python3.9/site-packages (from inexactsearch->SpellChecker) (1.1.3)\n",
      "Requirement already satisfied: nltk in ./opt/anaconda3/lib/python3.9/site-packages (3.7)\n",
      "Requirement already satisfied: joblib in ./opt/anaconda3/lib/python3.9/site-packages (from nltk) (1.1.0)\n",
      "Requirement already satisfied: click in ./opt/anaconda3/lib/python3.9/site-packages (from nltk) (8.0.4)\n",
      "Requirement already satisfied: tqdm in ./opt/anaconda3/lib/python3.9/site-packages (from nltk) (4.64.1)\n",
      "Requirement already satisfied: regex>=2021.8.3 in ./opt/anaconda3/lib/python3.9/site-packages (from nltk) (2022.7.9)\n"
     ]
    }
   ],
   "source": [
    "#Required imports\n",
    "\n",
    "import os\n",
    "os.system(\"pip install contractions\")\n",
    "os.system(\"pip install SpellChecker\")\n",
    "os.system(\"pip install nltk\")\n",
    "import pandas as pd\n",
    "import numpy as np\n",
    "import matplotlib.pyplot as plt\n",
    "import seaborn as sns\n",
    "import re\n",
    "import string\n",
    "import contractions\n",
    "import nltk\n",
    "import itertools\n",
    "import pickle\n",
    "from unidecode import unidecode\n",
    "from bs4 import BeautifulSoup\n",
    "from nltk.corpus import stopwords\n",
    "from nltk.tokenize import word_tokenize\n",
    "from nltk.stem import SnowballStemmer, WordNetLemmatizer\n",
    "from nltk.sentiment.vader import SentimentIntensityAnalyzer\n",
    "from sklearn.model_selection import train_test_split\n",
    "from sklearn.preprocessing import StandardScaler, LabelEncoder\n",
    "from sklearn.feature_extraction.text import CountVectorizer, TfidfVectorizer\n",
    "from sklearn.metrics import classification_report, accuracy_score, recall_score, precision_score, f1_score, confusion_matrix\n",
    "from sklearn.linear_model import LogisticRegression\n",
    "from sklearn.neighbors import KNeighborsClassifier\n",
    "from sklearn.ensemble import RandomForestClassifier\n",
    "from sklearn.tree import DecisionTreeClassifier\n",
    "from sklearn.naive_bayes import MultinomialNB, GaussianNB\n",
    "\n",
    "import warnings\n",
    "warnings.filterwarnings(\"ignore\")"
   ]
  },
  {
   "cell_type": "code",
   "execution_count": 69,
   "id": "50443223",
   "metadata": {},
   "outputs": [
    {
     "data": {
      "text/html": [
       "<div>\n",
       "<style scoped>\n",
       "    .dataframe tbody tr th:only-of-type {\n",
       "        vertical-align: middle;\n",
       "    }\n",
       "\n",
       "    .dataframe tbody tr th {\n",
       "        vertical-align: top;\n",
       "    }\n",
       "\n",
       "    .dataframe thead th {\n",
       "        text-align: right;\n",
       "    }\n",
       "</style>\n",
       "<table border=\"1\" class=\"dataframe\">\n",
       "  <thead>\n",
       "    <tr style=\"text-align: right;\">\n",
       "      <th></th>\n",
       "      <th>id</th>\n",
       "      <th>keyword</th>\n",
       "      <th>location</th>\n",
       "      <th>text</th>\n",
       "      <th>target</th>\n",
       "    </tr>\n",
       "  </thead>\n",
       "  <tbody>\n",
       "    <tr>\n",
       "      <th>0</th>\n",
       "      <td>1</td>\n",
       "      <td>NaN</td>\n",
       "      <td>NaN</td>\n",
       "      <td>Our Deeds are the Reason of this #earthquake M...</td>\n",
       "      <td>1</td>\n",
       "    </tr>\n",
       "    <tr>\n",
       "      <th>1</th>\n",
       "      <td>4</td>\n",
       "      <td>NaN</td>\n",
       "      <td>NaN</td>\n",
       "      <td>Forest fire near La Ronge Sask. Canada</td>\n",
       "      <td>1</td>\n",
       "    </tr>\n",
       "    <tr>\n",
       "      <th>2</th>\n",
       "      <td>5</td>\n",
       "      <td>NaN</td>\n",
       "      <td>NaN</td>\n",
       "      <td>All residents asked to 'shelter in place' are ...</td>\n",
       "      <td>1</td>\n",
       "    </tr>\n",
       "    <tr>\n",
       "      <th>3</th>\n",
       "      <td>6</td>\n",
       "      <td>NaN</td>\n",
       "      <td>NaN</td>\n",
       "      <td>13,000 people receive #wildfires evacuation or...</td>\n",
       "      <td>1</td>\n",
       "    </tr>\n",
       "    <tr>\n",
       "      <th>4</th>\n",
       "      <td>7</td>\n",
       "      <td>NaN</td>\n",
       "      <td>NaN</td>\n",
       "      <td>Just got sent this photo from Ruby #Alaska as ...</td>\n",
       "      <td>1</td>\n",
       "    </tr>\n",
       "  </tbody>\n",
       "</table>\n",
       "</div>"
      ],
      "text/plain": [
       "   id keyword location                                               text  \\\n",
       "0   1     NaN      NaN  Our Deeds are the Reason of this #earthquake M...   \n",
       "1   4     NaN      NaN             Forest fire near La Ronge Sask. Canada   \n",
       "2   5     NaN      NaN  All residents asked to 'shelter in place' are ...   \n",
       "3   6     NaN      NaN  13,000 people receive #wildfires evacuation or...   \n",
       "4   7     NaN      NaN  Just got sent this photo from Ruby #Alaska as ...   \n",
       "\n",
       "   target  \n",
       "0       1  \n",
       "1       1  \n",
       "2       1  \n",
       "3       1  \n",
       "4       1  "
      ]
     },
     "execution_count": 69,
     "metadata": {},
     "output_type": "execute_result"
    }
   ],
   "source": [
    "#Imports the datasets\n",
    "df = pd.read_csv('train.csv', sep=\",\", encoding=\"utf-8\")\n",
    "df_train = pd.read_csv(\"train.csv\", sep=\",\", encoding=\"utf-8\")\n",
    "df_test = pd.read_csv(\"test.csv\", sep=\",\", encoding=\"utf-8\")\n",
    "\n",
    "df_train.head()"
   ]
  },
  {
   "cell_type": "code",
   "execution_count": 4,
   "id": "71949379",
   "metadata": {},
   "outputs": [
    {
     "data": {
      "text/plain": [
       "(7613, 5)"
      ]
     },
     "execution_count": 4,
     "metadata": {},
     "output_type": "execute_result"
    }
   ],
   "source": [
    "#Checking Training set's size\n",
    "df_train.shape"
   ]
  },
  {
   "cell_type": "code",
   "execution_count": 5,
   "id": "53b3c920",
   "metadata": {},
   "outputs": [
    {
     "data": {
      "text/plain": [
       "(3263, 4)"
      ]
     },
     "execution_count": 5,
     "metadata": {},
     "output_type": "execute_result"
    }
   ],
   "source": [
    "#Checking Test set's size\n",
    "df_test.shape"
   ]
  },
  {
   "cell_type": "code",
   "execution_count": 6,
   "id": "527ea5e0",
   "metadata": {},
   "outputs": [
    {
     "name": "stdout",
     "output_type": "stream",
     "text": [
      "id           int64\n",
      "keyword     object\n",
      "location    object\n",
      "text        object\n",
      "target       int64\n",
      "dtype: object\n",
      "\n",
      "\n",
      "id           int64\n",
      "keyword     object\n",
      "location    object\n",
      "text        object\n",
      "dtype: object\n"
     ]
    }
   ],
   "source": [
    "#Checking types of datasets\n",
    "print(df_train.dtypes)\n",
    "print(\"\\n\")\n",
    "print(df_test.dtypes)"
   ]
  },
  {
   "cell_type": "code",
   "execution_count": 7,
   "id": "fa5e7427",
   "metadata": {},
   "outputs": [
    {
     "name": "stdout",
     "output_type": "stream",
     "text": [
      "count     7613.000000\n",
      "mean      5441.934848\n",
      "std       3137.116090\n",
      "min          1.000000\n",
      "25%       2734.000000\n",
      "50%       5408.000000\n",
      "75%       8146.000000\n",
      "max      10873.000000\n",
      "Name: id, dtype: float64\n",
      "\n",
      "----------------------------\n",
      "\n",
      "count           7552\n",
      "unique           221\n",
      "top       fatalities\n",
      "freq              45\n",
      "Name: keyword, dtype: object\n",
      "\n",
      "----------------------------\n",
      "\n",
      "count     5080\n",
      "unique    3341\n",
      "top        USA\n",
      "freq       104\n",
      "Name: location, dtype: object\n",
      "\n",
      "----------------------------\n",
      "\n",
      "count                                                  7613\n",
      "unique                                                 7503\n",
      "top       11-Year-Old Boy Charged With Manslaughter of T...\n",
      "freq                                                     10\n",
      "Name: text, dtype: object\n",
      "\n",
      "----------------------------\n",
      "\n",
      "count    7613.00000\n",
      "mean        0.42966\n",
      "std         0.49506\n",
      "min         0.00000\n",
      "25%         0.00000\n",
      "50%         0.00000\n",
      "75%         1.00000\n",
      "max         1.00000\n",
      "Name: target, dtype: float64\n",
      "\n",
      "----------------------------\n",
      "\n"
     ]
    }
   ],
   "source": [
    "#Printing an overall understanding about the information in the different columns in the trainingset\n",
    "\n",
    "for column in df_train.columns:\n",
    "    print(df_train[column].describe())\n",
    "    print(\"\\n----------------------------\\n\")\n",
    "    \n",
    "#We see for example that we have 7613 tweets, and that most of them are from USA\n"
   ]
  },
  {
   "cell_type": "code",
   "execution_count": 8,
   "id": "027b41ac",
   "metadata": {},
   "outputs": [
    {
     "name": "stdout",
     "output_type": "stream",
     "text": [
      "Train Data:\n",
      "\n",
      "id          False\n",
      "keyword      True\n",
      "location     True\n",
      "text        False\n",
      "target      False\n",
      "dtype: bool\n",
      "\n",
      "Test Data:\n",
      "\n",
      "id          False\n",
      "keyword      True\n",
      "location     True\n",
      "text        False\n",
      "dtype: bool\n"
     ]
    }
   ],
   "source": [
    "#Checking if any of the datasets have null-values\n",
    "\n",
    "print(\"Train Data:\\n\")\n",
    "print(df_train.isnull().any())\n",
    "print(\"\\nTest Data:\\n\")\n",
    "print(df_test.isnull().any())\n",
    "\n",
    "#We see that in the both our sets we have null-values in the \"keyword\" and the \"location\" column\n"
   ]
  },
  {
   "cell_type": "code",
   "execution_count": 9,
   "id": "0550c425",
   "metadata": {},
   "outputs": [
    {
     "name": "stdout",
     "output_type": "stream",
     "text": [
      "id             0\n",
      "keyword       61\n",
      "location    2533\n",
      "text           0\n",
      "target         0\n",
      "dtype: int64\n",
      "id             0\n",
      "keyword       26\n",
      "location    1105\n",
      "text           0\n",
      "dtype: int64\n"
     ]
    }
   ],
   "source": [
    "#Let's check how many null-values we have in each column\n",
    "\n",
    "#Training set\n",
    "print(df_train.isnull().sum())\n",
    "\n",
    "#Test set\n",
    "print(df_test.isnull().sum())\n",
    "\n",
    "#We "
   ]
  },
  {
   "cell_type": "code",
   "execution_count": 10,
   "id": "c133caba",
   "metadata": {},
   "outputs": [
    {
     "data": {
      "text/plain": [
       "<AxesSubplot:ylabel='target'>"
      ]
     },
     "execution_count": 10,
     "metadata": {},
     "output_type": "execute_result"
    },
    {
     "data": {
      "image/png": "[encoded data removed]",
      "text/plain": [
       "<Figure size 800x600 with 1 Axes>"
      ]
     },
     "metadata": {},
     "output_type": "display_data"
    }
   ],
   "source": [
    "#Visualizing the ratio between normal tweets and real disaster tweets\n",
    "plt.figure(figsize=(8,6))\n",
    "round(df_train[\"target\"].value_counts()/df_train.shape[0]*100,2).plot.pie(autopct= '%2.1f%%')\n",
    "\n",
    "#As we see, there are 57% normal tweets and 43% disaster tweets"
   ]
  },
  {
   "cell_type": "code",
   "execution_count": 11,
   "id": "34255e85",
   "metadata": {},
   "outputs": [
    {
     "data": {
      "text/plain": [
       "<AxesSubplot:title={'center':'Top 20 Keywords'}, xlabel='keyword'>"
      ]
     },
     "execution_count": 11,
     "metadata": {},
     "output_type": "execute_result"
    },
    {
     "data": {
      "image/png": "[encoded data removed]",
      "text/plain": [
       "<Figure size 1000x1000 with 1 Axes>"
      ]
     },
     "metadata": {},
     "output_type": "display_data"
    }
   ],
   "source": [
    "#Visualizing the top 20 most common words in the tweets using .value_counts()\n",
    "\n",
    "words=df_train['keyword'].value_counts()[:20]\n",
    "plt.figure(figsize=(10,10))\n",
    "plt.title(\"Top 20 Keywords\")\n",
    "plt.xlabel(\"Count of Keywords\")\n",
    "sns.barplot(x=words,y=words.index,palette='deep')"
   ]
  },
  {
   "cell_type": "code",
   "execution_count": 12,
   "id": "57864aa4",
   "metadata": {},
   "outputs": [
    {
     "name": "stdout",
     "output_type": "stream",
     "text": [
      "Training set:\n",
      "110\n",
      "\n",
      "\n",
      "Test set:\n",
      "20\n"
     ]
    }
   ],
   "source": [
    "#Checking if there are any duplicates to remove\n",
    "\n",
    "print(\"Training set:\")\n",
    "print(df_train.text.duplicated().sum())\n",
    "print(\"\\n\")\n",
    "print(\"Test set:\")\n",
    "print(df_test.text.duplicated().sum())"
   ]
  },
  {
   "cell_type": "code",
   "execution_count": 13,
   "id": "9493dd25",
   "metadata": {},
   "outputs": [],
   "source": [
    "#Removing the duplicates to get a better result for the model\n",
    "\n",
    "df_train.drop_duplicates(subset=[\"text\"], inplace=True)\n",
    "df_test.drop_duplicates(subset=[\"text\"], inplace=True)"
   ]
  },
  {
   "cell_type": "code",
   "execution_count": null,
   "id": "ad9fb1fd",
   "metadata": {},
   "outputs": [],
   "source": [
    "#Gjøre om like navn?"
   ]
  },
  {
   "cell_type": "code",
   "execution_count": 14,
   "id": "78b66f24",
   "metadata": {},
   "outputs": [],
   "source": [
    "#Some tweets don't have a keyword, so I replace all NaN with \"None\"\n",
    "\n",
    "df_train.keyword = df_train.keyword.fillna(\"None\")\n",
    "df_test.keyword = df_test.keyword.fillna(\"None\")"
   ]
  },
  {
   "cell_type": "code",
   "execution_count": 18,
   "id": "9e0143fb",
   "metadata": {},
   "outputs": [
    {
     "name": "stderr",
     "output_type": "stream",
     "text": [
      "[nltk_data] Downloading package omw-1.4 to\n",
      "[nltk_data]     /Users/Vetlestorvik/nltk_data...\n",
      "[nltk_data] Downloading package wordnet to\n",
      "[nltk_data]     /Users/Vetlestorvik/nltk_data...\n",
      "[nltk_data]   Package wordnet is already up-to-date!\n"
     ]
    },
    {
     "name": "stdout",
     "output_type": "stream",
     "text": [
      "['ablaze', 'accident', 'aftershock', 'airplane%20accident', 'ambulance', 'annihilated', 'annihilation', 'apocalypse', 'armageddon', 'army', 'arson', 'arsonist', 'attack', 'attacked', 'avalanche', 'battle', 'bioterror', 'bioterrorism', 'blaze', 'blazing', 'bleeding', 'blew%20up', 'blight', 'blizzard', 'blood', 'bloody', 'blown%20up', 'body%20bag', 'body%20bagging', 'body%20bags', 'bomb', 'bombed', 'bombing', 'bridge%20collapse', 'buildings%20burning', 'buildings%20on%20fire', 'burned', 'burning', 'burning%20buildings', 'bush%20fires', 'casualty', 'catastrophe', 'catastrophic', 'chemical%20emergency', 'cliff%20fall', 'collapse', 'collapsed', 'collide', 'collided', 'collision', 'crash', 'crashed', 'crush', 'crushed', 'curfew', 'cyclone', 'damage', 'danger', 'dead', 'death', 'debris', 'deluge', 'deluged', 'demolish', 'demolished', 'demolition', 'derail', 'derailed', 'derailment', 'desolate', 'desolation', 'destroy', 'destroyed', 'destruction', 'detonate', 'detonation', 'devastated', 'devastation', 'disaster', 'displaced', 'drought', 'drown', 'drowned', 'drowning', 'dust%20storm', 'earthquake', 'electrocute', 'electrocuted', 'emergency', 'emergency%20plan', 'emergency%20services', 'engulfed', 'epicentre', 'evacuate', 'evacuated', 'evacuation', 'explode', 'exploded', 'explosion', 'eyewitness', 'famine', 'fatal', 'fatality', 'fear', 'fire', 'fire%20truck', 'first%20responders', 'flame', 'flattened', 'flood', 'flooding', 'forest%20fire', 'forest%20fires', 'hail', 'hailstorm', 'harm', 'hazard', 'hazardous', 'heat%20wave', 'hellfire', 'hijack', 'hijacker', 'hijacking', 'hostage', 'hurricane', 'injured', 'injury', 'inundated', 'inundation', 'landslide', 'lava', 'lightning', 'loud%20bang', 'mass%20murder', 'mass%20murderer', 'massacre', 'mayhem', 'meltdown', 'military', 'mudslide', 'natural%20disaster', 'nuclear%20disaster', 'nuclear%20reactor', 'obliterate', 'obliterated', 'obliteration', 'oil%20spill', 'outbreak', 'pandemonium', 'panic', 'panicking', 'police', 'quarantine', 'quarantined', 'radiation%20emergency', 'rainstorm', 'razed', 'refugee', 'rescue', 'rescued', 'rescuer', 'riot', 'rioting', 'rubble', 'ruin', 'sandstorm', 'screamed', 'screaming', 'scream', 'seismic', 'sinkhole', 'sinking', 'siren', 'smoke', 'snowstorm', 'storm', 'stretcher', 'structural%20failure', 'suicide%20bomb', 'suicide%20bomber', 'suicide%20bombing', 'sunk', 'survive', 'survived', 'survivor', 'terrorism', 'terrorist', 'threat', 'thunder', 'thunderstorm', 'tornado', 'tragedy', 'trapped', 'trauma', 'traumatised', 'trouble', 'tsunami', 'twister', 'typhoon', 'upheaval', 'violent%20storm', 'volcano', 'war%20zone', 'weapon', 'whirlwind', 'wild%20fires', 'wildfire', 'windstorm', 'wounded', 'wound', 'wreck', 'wreckage', 'wrecked']\n"
     ]
    }
   ],
   "source": [
    "#Performing lemmatizing on the tweets\n",
    "lemmatizer = WordNetLemmatizer()\n",
    "\n",
    "#Downloading wordnet\n",
    "import nltk\n",
    "nltk.download('omw-1.4')\n",
    "nltk.download('wordnet')\n",
    "\n",
    "#Creating a list that contain all the keywords\n",
    "keywordList = []\n",
    "for keyword in df_train.keyword:\n",
    "    keyword = lemmatizer.lemmatize(keyword)\n",
    "    if(keyword != \"None\" and keyword not in keywordList):\n",
    "        keywordList.append(keyword)\n",
    "        \n",
    "print(keywordList)"
   ]
  },
  {
   "cell_type": "code",
   "execution_count": 20,
   "id": "4697d2b4",
   "metadata": {},
   "outputs": [],
   "source": [
    "\"\"\"Using the keyword list to replace all the \"None\"-keywords with\n",
    "the first word in the tweet that is in the keyword list\"\"\"\n",
    "\n",
    "for text in df_train.text:\n",
    "    for word in text.split(\" \"): \n",
    "        if(word in keywordList):\n",
    "            df_train.keyword = df_train.keyword.replace(\"None\", word)\n",
    "            \n",
    "for text in df_test.text:\n",
    "    for word in text.split(\" \"): \n",
    "        if(word in keywordList):\n",
    "            df_test.keyword = df_test.keyword.replace(\"None\", word)"
   ]
  },
  {
   "cell_type": "code",
   "execution_count": 24,
   "id": "29e29fdd",
   "metadata": {},
   "outputs": [],
   "source": [
    "# I choose to fill in the Na-values for location with a random location from the most common locations\n",
    "df_train['location'].value_counts().nlargest(25)\n",
    "\n",
    "#Creating the list of most common locations based on the previuos code\n",
    "fill_list = ['USA' , 'New York','Canada','London','Nigeria','UK','Los Angeles, CA','India','Mumbai','Kenya','California','Australia','Chicago, IL','Florida','Los Angeles','San Francisco','Indonesia','Washington, D.C.','Ireland']\n",
    "\n",
    "#Fill in with a random location\n",
    "df_train['location'] = df_train['location'].fillna(pd.Series(np.random.choice(fill_list , size = len(df_train.index))))\n",
    "df_test['location'] = df_test['location'].fillna(pd.Series(np.random.choice(fill_list , size = len(df_train.index))))"
   ]
  },
  {
   "cell_type": "code",
   "execution_count": 27,
   "id": "64a9f580",
   "metadata": {},
   "outputs": [
    {
     "data": {
      "text/plain": [
       "0    our deeds are the reason of this #earthquake m...\n",
       "1               forest fire near la ronge sask. canada\n",
       "2    all residents asked to 'shelter in place' are ...\n",
       "3    13,000 people receive #wildfires evacuation or...\n",
       "4    just got sent this photo from ruby #alaska as ...\n",
       "Name: text, dtype: object"
      ]
     },
     "execution_count": 27,
     "metadata": {},
     "output_type": "execute_result"
    }
   ],
   "source": [
    "#Converting all letters in tweets to lower case\n",
    "\n",
    "df_train.text = df_train.text.str.lower()\n",
    "df_test.text = df_test.text.str.lower()\n",
    "\n",
    "df_train.text.head()"
   ]
  },
  {
   "cell_type": "code",
   "execution_count": 31,
   "id": "8450cad2",
   "metadata": {},
   "outputs": [
    {
     "data": {
      "text/plain": [
       "'soup = BeautifulSoup(df_train[\"text\"])\\ndf_train[\"text\"] = soup.get_text()\\n\\nsoup = BeautifulSoup(df_test[\"text\"])\\ndf_test[\"text\"] = soup.get_text()\\n\\ndf_train.head()'"
      ]
     },
     "execution_count": 31,
     "metadata": {},
     "output_type": "execute_result"
    }
   ],
   "source": [
    "#Removing HTML?\n",
    "\n",
    "\"\"\"soup = BeautifulSoup(df_train[\"text\"])\n",
    "df_train[\"text\"] = soup.get_text()\n",
    "\n",
    "soup = BeautifulSoup(df_test[\"text\"])\n",
    "df_test[\"text\"] = soup.get_text()\n",
    "\n",
    "df_train.head()\"\"\""
   ]
  },
  {
   "cell_type": "code",
   "execution_count": 32,
   "id": "1236fe51",
   "metadata": {},
   "outputs": [
    {
     "data": {
      "text/html": [
       "<div>\n",
       "<style scoped>\n",
       "    .dataframe tbody tr th:only-of-type {\n",
       "        vertical-align: middle;\n",
       "    }\n",
       "\n",
       "    .dataframe tbody tr th {\n",
       "        vertical-align: top;\n",
       "    }\n",
       "\n",
       "    .dataframe thead th {\n",
       "        text-align: right;\n",
       "    }\n",
       "</style>\n",
       "<table border=\"1\" class=\"dataframe\">\n",
       "  <thead>\n",
       "    <tr style=\"text-align: right;\">\n",
       "      <th></th>\n",
       "      <th>id</th>\n",
       "      <th>keyword</th>\n",
       "      <th>location</th>\n",
       "      <th>text</th>\n",
       "      <th>target</th>\n",
       "    </tr>\n",
       "  </thead>\n",
       "  <tbody>\n",
       "    <tr>\n",
       "      <th>0</th>\n",
       "      <td>1</td>\n",
       "      <td>fire</td>\n",
       "      <td>Chicago, IL</td>\n",
       "      <td>our deeds are the reason of this #earthquake m...</td>\n",
       "      <td>1</td>\n",
       "    </tr>\n",
       "    <tr>\n",
       "      <th>1</th>\n",
       "      <td>4</td>\n",
       "      <td>fire</td>\n",
       "      <td>California</td>\n",
       "      <td>forest fire near la ronge sask. canada</td>\n",
       "      <td>1</td>\n",
       "    </tr>\n",
       "    <tr>\n",
       "      <th>2</th>\n",
       "      <td>5</td>\n",
       "      <td>fire</td>\n",
       "      <td>Chicago, IL</td>\n",
       "      <td>all residents asked to 'shelter in place' are ...</td>\n",
       "      <td>1</td>\n",
       "    </tr>\n",
       "    <tr>\n",
       "      <th>3</th>\n",
       "      <td>6</td>\n",
       "      <td>fire</td>\n",
       "      <td>Australia</td>\n",
       "      <td>13,000 people receive #wildfires evacuation or...</td>\n",
       "      <td>1</td>\n",
       "    </tr>\n",
       "    <tr>\n",
       "      <th>4</th>\n",
       "      <td>7</td>\n",
       "      <td>fire</td>\n",
       "      <td>Nigeria</td>\n",
       "      <td>just got sent this photo from ruby #alaska as ...</td>\n",
       "      <td>1</td>\n",
       "    </tr>\n",
       "  </tbody>\n",
       "</table>\n",
       "</div>"
      ],
      "text/plain": [
       "   id keyword     location                                               text  \\\n",
       "0   1    fire  Chicago, IL  our deeds are the reason of this #earthquake m...   \n",
       "1   4    fire   California             forest fire near la ronge sask. canada   \n",
       "2   5    fire  Chicago, IL  all residents asked to 'shelter in place' are ...   \n",
       "3   6    fire    Australia  13,000 people receive #wildfires evacuation or...   \n",
       "4   7    fire      Nigeria  just got sent this photo from ruby #alaska as ...   \n",
       "\n",
       "   target  \n",
       "0       1  \n",
       "1       1  \n",
       "2       1  \n",
       "3       1  \n",
       "4       1  "
      ]
     },
     "execution_count": 32,
     "metadata": {},
     "output_type": "execute_result"
    }
   ],
   "source": [
    "#In tweets, mentions are commonly used, I therefore choose to remove these\n",
    "\n",
    "def mentionsRemoval(text):\n",
    "    pattern = re.compile(r\"@\\w+\")\n",
    "    text = re.sub(pattern, \"\", text)\n",
    "    return text\n",
    "\n",
    "df_train[\"text\"] = df_train[\"text\"].apply(mentionsRemoval)\n",
    "df_test[\"text\"] = df_test[\"text\"].apply(mentionsRemoval)\n",
    "df_train.head()"
   ]
  },
  {
   "cell_type": "code",
   "execution_count": 33,
   "id": "913563e7",
   "metadata": {},
   "outputs": [
    {
     "data": {
      "text/html": [
       "<div>\n",
       "<style scoped>\n",
       "    .dataframe tbody tr th:only-of-type {\n",
       "        vertical-align: middle;\n",
       "    }\n",
       "\n",
       "    .dataframe tbody tr th {\n",
       "        vertical-align: top;\n",
       "    }\n",
       "\n",
       "    .dataframe thead th {\n",
       "        text-align: right;\n",
       "    }\n",
       "</style>\n",
       "<table border=\"1\" class=\"dataframe\">\n",
       "  <thead>\n",
       "    <tr style=\"text-align: right;\">\n",
       "      <th></th>\n",
       "      <th>id</th>\n",
       "      <th>keyword</th>\n",
       "      <th>location</th>\n",
       "      <th>text</th>\n",
       "      <th>target</th>\n",
       "    </tr>\n",
       "  </thead>\n",
       "  <tbody>\n",
       "    <tr>\n",
       "      <th>0</th>\n",
       "      <td>1</td>\n",
       "      <td>fire</td>\n",
       "      <td>Chicago, IL</td>\n",
       "      <td>our deeds are the reason of this #earthquake m...</td>\n",
       "      <td>1</td>\n",
       "    </tr>\n",
       "    <tr>\n",
       "      <th>1</th>\n",
       "      <td>4</td>\n",
       "      <td>fire</td>\n",
       "      <td>California</td>\n",
       "      <td>forest fire near la ronge sask. canada</td>\n",
       "      <td>1</td>\n",
       "    </tr>\n",
       "    <tr>\n",
       "      <th>2</th>\n",
       "      <td>5</td>\n",
       "      <td>fire</td>\n",
       "      <td>Chicago, IL</td>\n",
       "      <td>all residents asked to 'shelter in place' are ...</td>\n",
       "      <td>1</td>\n",
       "    </tr>\n",
       "    <tr>\n",
       "      <th>3</th>\n",
       "      <td>6</td>\n",
       "      <td>fire</td>\n",
       "      <td>Australia</td>\n",
       "      <td>13,000 people receive #wildfires evacuation or...</td>\n",
       "      <td>1</td>\n",
       "    </tr>\n",
       "    <tr>\n",
       "      <th>4</th>\n",
       "      <td>7</td>\n",
       "      <td>fire</td>\n",
       "      <td>Nigeria</td>\n",
       "      <td>just got sent this photo from ruby #alaska as ...</td>\n",
       "      <td>1</td>\n",
       "    </tr>\n",
       "  </tbody>\n",
       "</table>\n",
       "</div>"
      ],
      "text/plain": [
       "   id keyword     location                                               text  \\\n",
       "0   1    fire  Chicago, IL  our deeds are the reason of this #earthquake m...   \n",
       "1   4    fire   California             forest fire near la ronge sask. canada   \n",
       "2   5    fire  Chicago, IL  all residents asked to 'shelter in place' are ...   \n",
       "3   6    fire    Australia  13,000 people receive #wildfires evacuation or...   \n",
       "4   7    fire      Nigeria  just got sent this photo from ruby #alaska as ...   \n",
       "\n",
       "   target  \n",
       "0       1  \n",
       "1       1  \n",
       "2       1  \n",
       "3       1  \n",
       "4       1  "
      ]
     },
     "execution_count": 33,
     "metadata": {},
     "output_type": "execute_result"
    }
   ],
   "source": [
    "#Removing URLs\n",
    "\n",
    "def urlRemoval(text):\n",
    "    pattern = re.compile(r'https?://(www\\.)?(\\w+)(\\.\\w+)(/\\w*)?')\n",
    "    text = re.sub(pattern, \"\", text)\n",
    "    return text\n",
    "\n",
    "df_train[\"text\"] = df_train[\"text\"].apply(urlRemoval)\n",
    "df_test[\"text\"] = df_test[\"text\"].apply(urlRemoval)\n",
    "df_train.head()"
   ]
  },
  {
   "cell_type": "code",
   "execution_count": 34,
   "id": "0247363c",
   "metadata": {},
   "outputs": [
    {
     "data": {
      "text/html": [
       "<div>\n",
       "<style scoped>\n",
       "    .dataframe tbody tr th:only-of-type {\n",
       "        vertical-align: middle;\n",
       "    }\n",
       "\n",
       "    .dataframe tbody tr th {\n",
       "        vertical-align: top;\n",
       "    }\n",
       "\n",
       "    .dataframe thead th {\n",
       "        text-align: right;\n",
       "    }\n",
       "</style>\n",
       "<table border=\"1\" class=\"dataframe\">\n",
       "  <thead>\n",
       "    <tr style=\"text-align: right;\">\n",
       "      <th></th>\n",
       "      <th>id</th>\n",
       "      <th>keyword</th>\n",
       "      <th>location</th>\n",
       "      <th>text</th>\n",
       "      <th>target</th>\n",
       "    </tr>\n",
       "  </thead>\n",
       "  <tbody>\n",
       "    <tr>\n",
       "      <th>0</th>\n",
       "      <td>1</td>\n",
       "      <td>fire</td>\n",
       "      <td>Chicago, IL</td>\n",
       "      <td>our deeds are the reason of this #earthquake m...</td>\n",
       "      <td>1</td>\n",
       "    </tr>\n",
       "    <tr>\n",
       "      <th>1</th>\n",
       "      <td>4</td>\n",
       "      <td>fire</td>\n",
       "      <td>California</td>\n",
       "      <td>forest fire near la ronge sask. canada</td>\n",
       "      <td>1</td>\n",
       "    </tr>\n",
       "    <tr>\n",
       "      <th>2</th>\n",
       "      <td>5</td>\n",
       "      <td>fire</td>\n",
       "      <td>Chicago, IL</td>\n",
       "      <td>all residents asked to 'shelter in place' are ...</td>\n",
       "      <td>1</td>\n",
       "    </tr>\n",
       "    <tr>\n",
       "      <th>3</th>\n",
       "      <td>6</td>\n",
       "      <td>fire</td>\n",
       "      <td>Australia</td>\n",
       "      <td>13,000 people receive #wildfires evacuation or...</td>\n",
       "      <td>1</td>\n",
       "    </tr>\n",
       "    <tr>\n",
       "      <th>4</th>\n",
       "      <td>7</td>\n",
       "      <td>fire</td>\n",
       "      <td>Nigeria</td>\n",
       "      <td>just got sent this photo from ruby #alaska as ...</td>\n",
       "      <td>1</td>\n",
       "    </tr>\n",
       "  </tbody>\n",
       "</table>\n",
       "</div>"
      ],
      "text/plain": [
       "   id keyword     location                                               text  \\\n",
       "0   1    fire  Chicago, IL  our deeds are the reason of this #earthquake m...   \n",
       "1   4    fire   California             forest fire near la ronge sask. canada   \n",
       "2   5    fire  Chicago, IL  all residents asked to 'shelter in place' are ...   \n",
       "3   6    fire    Australia  13,000 people receive #wildfires evacuation or...   \n",
       "4   7    fire      Nigeria  just got sent this photo from ruby #alaska as ...   \n",
       "\n",
       "   target  \n",
       "0       1  \n",
       "1       1  \n",
       "2       1  \n",
       "3       1  \n",
       "4       1  "
      ]
     },
     "execution_count": 34,
     "metadata": {},
     "output_type": "execute_result"
    }
   ],
   "source": [
    "#Removing emails\n",
    "\n",
    "def emailRemoval(text):\n",
    "    pattern = re.compile(r\"[\\w\\.-]+@[\\w\\.-]+\\.\\w+\")\n",
    "    text = re.sub(pattern, \"\", text)\n",
    "    return text\n",
    "\n",
    "df_train[\"text\"] = df_train[\"text\"].apply(emailRemoval)\n",
    "df_test[\"text\"] = df_test[\"text\"].apply(emailRemoval)\n",
    "df_train.head()"
   ]
  },
  {
   "cell_type": "code",
   "execution_count": 35,
   "id": "7c953c86",
   "metadata": {},
   "outputs": [
    {
     "data": {
      "text/html": [
       "<div>\n",
       "<style scoped>\n",
       "    .dataframe tbody tr th:only-of-type {\n",
       "        vertical-align: middle;\n",
       "    }\n",
       "\n",
       "    .dataframe tbody tr th {\n",
       "        vertical-align: top;\n",
       "    }\n",
       "\n",
       "    .dataframe thead th {\n",
       "        text-align: right;\n",
       "    }\n",
       "</style>\n",
       "<table border=\"1\" class=\"dataframe\">\n",
       "  <thead>\n",
       "    <tr style=\"text-align: right;\">\n",
       "      <th></th>\n",
       "      <th>id</th>\n",
       "      <th>keyword</th>\n",
       "      <th>location</th>\n",
       "      <th>text</th>\n",
       "      <th>target</th>\n",
       "    </tr>\n",
       "  </thead>\n",
       "  <tbody>\n",
       "    <tr>\n",
       "      <th>0</th>\n",
       "      <td>1</td>\n",
       "      <td>fire</td>\n",
       "      <td>Chicago, IL</td>\n",
       "      <td>our deeds are the reason of this  earthquake m...</td>\n",
       "      <td>1</td>\n",
       "    </tr>\n",
       "    <tr>\n",
       "      <th>1</th>\n",
       "      <td>4</td>\n",
       "      <td>fire</td>\n",
       "      <td>California</td>\n",
       "      <td>forest fire near la ronge sask  canada</td>\n",
       "      <td>1</td>\n",
       "    </tr>\n",
       "    <tr>\n",
       "      <th>2</th>\n",
       "      <td>5</td>\n",
       "      <td>fire</td>\n",
       "      <td>Chicago, IL</td>\n",
       "      <td>all residents asked to  shelter in place  are ...</td>\n",
       "      <td>1</td>\n",
       "    </tr>\n",
       "    <tr>\n",
       "      <th>3</th>\n",
       "      <td>6</td>\n",
       "      <td>fire</td>\n",
       "      <td>Australia</td>\n",
       "      <td>13 000 people receive  wildfires evacuation or...</td>\n",
       "      <td>1</td>\n",
       "    </tr>\n",
       "    <tr>\n",
       "      <th>4</th>\n",
       "      <td>7</td>\n",
       "      <td>fire</td>\n",
       "      <td>Nigeria</td>\n",
       "      <td>just got sent this photo from ruby  alaska as ...</td>\n",
       "      <td>1</td>\n",
       "    </tr>\n",
       "  </tbody>\n",
       "</table>\n",
       "</div>"
      ],
      "text/plain": [
       "   id keyword     location                                               text  \\\n",
       "0   1    fire  Chicago, IL  our deeds are the reason of this  earthquake m...   \n",
       "1   4    fire   California             forest fire near la ronge sask  canada   \n",
       "2   5    fire  Chicago, IL  all residents asked to  shelter in place  are ...   \n",
       "3   6    fire    Australia  13 000 people receive  wildfires evacuation or...   \n",
       "4   7    fire      Nigeria  just got sent this photo from ruby  alaska as ...   \n",
       "\n",
       "   target  \n",
       "0       1  \n",
       "1       1  \n",
       "2       1  \n",
       "3       1  \n",
       "4       1  "
      ]
     },
     "execution_count": 35,
     "metadata": {},
     "output_type": "execute_result"
    }
   ],
   "source": [
    "#Removing all the puntuations in the method, string.punctuation:  !\"#$%&\\'()*+,-./:;<=>?@[\\\\]^_`{|}~\n",
    "\n",
    "def punctuationsRemoval(text):\n",
    "    text = re.sub('[%s]' % re.escape(string.punctuation), \" \",text)\n",
    "    return text\n",
    "\n",
    "df_train[\"text\"] = df_train[\"text\"].apply(punctuationsRemoval)\n",
    "df_test[\"text\"] = df_test[\"text\"].apply(punctuationsRemoval)\n",
    "df_train.head()"
   ]
  },
  {
   "cell_type": "code",
   "execution_count": 36,
   "id": "7d0a3ff0",
   "metadata": {},
   "outputs": [
    {
     "data": {
      "text/html": [
       "<div>\n",
       "<style scoped>\n",
       "    .dataframe tbody tr th:only-of-type {\n",
       "        vertical-align: middle;\n",
       "    }\n",
       "\n",
       "    .dataframe tbody tr th {\n",
       "        vertical-align: top;\n",
       "    }\n",
       "\n",
       "    .dataframe thead th {\n",
       "        text-align: right;\n",
       "    }\n",
       "</style>\n",
       "<table border=\"1\" class=\"dataframe\">\n",
       "  <thead>\n",
       "    <tr style=\"text-align: right;\">\n",
       "      <th></th>\n",
       "      <th>id</th>\n",
       "      <th>keyword</th>\n",
       "      <th>location</th>\n",
       "      <th>text</th>\n",
       "      <th>target</th>\n",
       "    </tr>\n",
       "  </thead>\n",
       "  <tbody>\n",
       "    <tr>\n",
       "      <th>0</th>\n",
       "      <td>1</td>\n",
       "      <td>fire</td>\n",
       "      <td>Chicago, IL</td>\n",
       "      <td>our deeds are the reason of this  earthquake m...</td>\n",
       "      <td>1</td>\n",
       "    </tr>\n",
       "    <tr>\n",
       "      <th>1</th>\n",
       "      <td>4</td>\n",
       "      <td>fire</td>\n",
       "      <td>California</td>\n",
       "      <td>forest fire near la ronge sask  canada</td>\n",
       "      <td>1</td>\n",
       "    </tr>\n",
       "    <tr>\n",
       "      <th>2</th>\n",
       "      <td>5</td>\n",
       "      <td>fire</td>\n",
       "      <td>Chicago, IL</td>\n",
       "      <td>all residents asked to  shelter in place  are ...</td>\n",
       "      <td>1</td>\n",
       "    </tr>\n",
       "    <tr>\n",
       "      <th>3</th>\n",
       "      <td>6</td>\n",
       "      <td>fire</td>\n",
       "      <td>Australia</td>\n",
       "      <td>people receive  wildfires evacuation orders ...</td>\n",
       "      <td>1</td>\n",
       "    </tr>\n",
       "    <tr>\n",
       "      <th>4</th>\n",
       "      <td>7</td>\n",
       "      <td>fire</td>\n",
       "      <td>Nigeria</td>\n",
       "      <td>just got sent this photo from ruby  alaska as ...</td>\n",
       "      <td>1</td>\n",
       "    </tr>\n",
       "  </tbody>\n",
       "</table>\n",
       "</div>"
      ],
      "text/plain": [
       "   id keyword     location                                               text  \\\n",
       "0   1    fire  Chicago, IL  our deeds are the reason of this  earthquake m...   \n",
       "1   4    fire   California             forest fire near la ronge sask  canada   \n",
       "2   5    fire  Chicago, IL  all residents asked to  shelter in place  are ...   \n",
       "3   6    fire    Australia    people receive  wildfires evacuation orders ...   \n",
       "4   7    fire      Nigeria  just got sent this photo from ruby  alaska as ...   \n",
       "\n",
       "   target  \n",
       "0       1  \n",
       "1       1  \n",
       "2       1  \n",
       "3       1  \n",
       "4       1  "
      ]
     },
     "execution_count": 36,
     "metadata": {},
     "output_type": "execute_result"
    }
   ],
   "source": [
    "#Removing numbers in tweets\n",
    "\n",
    "def digitsRemoval(text):\n",
    "    pattern = re.compile(\"\\w*\\d+\\w*\")\n",
    "    text = re.sub(pattern, \"\",text)\n",
    "    return text\n",
    "\n",
    "df_train[\"text\"] = df_train[\"text\"].apply(digitsRemoval)\n",
    "df_test[\"text\"] = df_test[\"text\"].apply(digitsRemoval)\n",
    "df_train.head()"
   ]
  },
  {
   "cell_type": "code",
   "execution_count": 37,
   "id": "62fffcc6",
   "metadata": {},
   "outputs": [
    {
     "data": {
      "text/html": [
       "<div>\n",
       "<style scoped>\n",
       "    .dataframe tbody tr th:only-of-type {\n",
       "        vertical-align: middle;\n",
       "    }\n",
       "\n",
       "    .dataframe tbody tr th {\n",
       "        vertical-align: top;\n",
       "    }\n",
       "\n",
       "    .dataframe thead th {\n",
       "        text-align: right;\n",
       "    }\n",
       "</style>\n",
       "<table border=\"1\" class=\"dataframe\">\n",
       "  <thead>\n",
       "    <tr style=\"text-align: right;\">\n",
       "      <th></th>\n",
       "      <th>id</th>\n",
       "      <th>keyword</th>\n",
       "      <th>location</th>\n",
       "      <th>text</th>\n",
       "      <th>target</th>\n",
       "    </tr>\n",
       "  </thead>\n",
       "  <tbody>\n",
       "    <tr>\n",
       "      <th>0</th>\n",
       "      <td>1</td>\n",
       "      <td>fire</td>\n",
       "      <td>Chicago, IL</td>\n",
       "      <td>our deeds are the reason of this  earthquake m...</td>\n",
       "      <td>1</td>\n",
       "    </tr>\n",
       "    <tr>\n",
       "      <th>1</th>\n",
       "      <td>4</td>\n",
       "      <td>fire</td>\n",
       "      <td>California</td>\n",
       "      <td>forest fire near la ronge sask  canada</td>\n",
       "      <td>1</td>\n",
       "    </tr>\n",
       "    <tr>\n",
       "      <th>2</th>\n",
       "      <td>5</td>\n",
       "      <td>fire</td>\n",
       "      <td>Chicago, IL</td>\n",
       "      <td>all residents asked to  shelter in place  are ...</td>\n",
       "      <td>1</td>\n",
       "    </tr>\n",
       "    <tr>\n",
       "      <th>3</th>\n",
       "      <td>6</td>\n",
       "      <td>fire</td>\n",
       "      <td>Australia</td>\n",
       "      <td>people receive  wildfires evacuation orders ...</td>\n",
       "      <td>1</td>\n",
       "    </tr>\n",
       "    <tr>\n",
       "      <th>4</th>\n",
       "      <td>7</td>\n",
       "      <td>fire</td>\n",
       "      <td>Nigeria</td>\n",
       "      <td>just got sent this photo from ruby  alaska as ...</td>\n",
       "      <td>1</td>\n",
       "    </tr>\n",
       "    <tr>\n",
       "      <th>5</th>\n",
       "      <td>8</td>\n",
       "      <td>fire</td>\n",
       "      <td>Indonesia</td>\n",
       "      <td>rockyfire update    california hwy   closed i...</td>\n",
       "      <td>1</td>\n",
       "    </tr>\n",
       "    <tr>\n",
       "      <th>6</th>\n",
       "      <td>10</td>\n",
       "      <td>fire</td>\n",
       "      <td>California</td>\n",
       "      <td>flood  disaster heavy rain causes flash flood...</td>\n",
       "      <td>1</td>\n",
       "    </tr>\n",
       "    <tr>\n",
       "      <th>7</th>\n",
       "      <td>13</td>\n",
       "      <td>fire</td>\n",
       "      <td>Canada</td>\n",
       "      <td>i m on top of the hill and i can see a fire in...</td>\n",
       "      <td>1</td>\n",
       "    </tr>\n",
       "    <tr>\n",
       "      <th>8</th>\n",
       "      <td>14</td>\n",
       "      <td>fire</td>\n",
       "      <td>Canada</td>\n",
       "      <td>there s an emergency evacuation happening now ...</td>\n",
       "      <td>1</td>\n",
       "    </tr>\n",
       "    <tr>\n",
       "      <th>9</th>\n",
       "      <td>15</td>\n",
       "      <td>fire</td>\n",
       "      <td>Kenya</td>\n",
       "      <td>i m afraid that the tornado is coming to our a...</td>\n",
       "      <td>1</td>\n",
       "    </tr>\n",
       "  </tbody>\n",
       "</table>\n",
       "</div>"
      ],
      "text/plain": [
       "   id keyword     location                                               text  \\\n",
       "0   1    fire  Chicago, IL  our deeds are the reason of this  earthquake m...   \n",
       "1   4    fire   California             forest fire near la ronge sask  canada   \n",
       "2   5    fire  Chicago, IL  all residents asked to  shelter in place  are ...   \n",
       "3   6    fire    Australia    people receive  wildfires evacuation orders ...   \n",
       "4   7    fire      Nigeria  just got sent this photo from ruby  alaska as ...   \n",
       "5   8    fire    Indonesia   rockyfire update    california hwy   closed i...   \n",
       "6  10    fire   California   flood  disaster heavy rain causes flash flood...   \n",
       "7  13    fire       Canada  i m on top of the hill and i can see a fire in...   \n",
       "8  14    fire       Canada  there s an emergency evacuation happening now ...   \n",
       "9  15    fire        Kenya  i m afraid that the tornado is coming to our a...   \n",
       "\n",
       "   target  \n",
       "0       1  \n",
       "1       1  \n",
       "2       1  \n",
       "3       1  \n",
       "4       1  \n",
       "5       1  \n",
       "6       1  \n",
       "7       1  \n",
       "8       1  \n",
       "9       1  "
      ]
     },
     "execution_count": 37,
     "metadata": {},
     "output_type": "execute_result"
    }
   ],
   "source": [
    "#Removing emojis\n",
    "\n",
    "def removeEmoji(text):\n",
    "    emoji_pattern = re.compile(\"[\"\n",
    "                           u\"\\U0001F600-\\U0001F64F\"  # emoticons\n",
    "                           u\"\\U0001F300-\\U0001F5FF\"  # symbols & pictographs\n",
    "                           u\"\\U0001F680-\\U0001F6FF\"  # transport & map symbols\n",
    "                           u\"\\U0001F1E0-\\U0001F1FF\"  # flags (iOS)\n",
    "                           u\"\\U00002702-\\U000027B0\"\n",
    "                           u\"\\U000024C2-\\U0001F251\"\n",
    "                           \"]+\", flags=re.UNICODE)\n",
    "    return emoji_pattern.sub(r'', text)\n",
    "\n",
    "df_train['text'] = df_train['text'].apply(lambda x: removeEmoji(x))\n",
    "df_test['text'] = df_test['text'].apply(lambda x: removeEmoji(x))\n",
    "df_train.head(10)"
   ]
  },
  {
   "cell_type": "code",
   "execution_count": 39,
   "id": "c7df8deb",
   "metadata": {},
   "outputs": [
    {
     "name": "stderr",
     "output_type": "stream",
     "text": [
      "[nltk_data] Downloading package stopwords to\n",
      "[nltk_data]     /Users/Vetlestorvik/nltk_data...\n",
      "[nltk_data]   Unzipping corpora/stopwords.zip.\n"
     ]
    },
    {
     "data": {
      "text/html": [
       "<div>\n",
       "<style scoped>\n",
       "    .dataframe tbody tr th:only-of-type {\n",
       "        vertical-align: middle;\n",
       "    }\n",
       "\n",
       "    .dataframe tbody tr th {\n",
       "        vertical-align: top;\n",
       "    }\n",
       "\n",
       "    .dataframe thead th {\n",
       "        text-align: right;\n",
       "    }\n",
       "</style>\n",
       "<table border=\"1\" class=\"dataframe\">\n",
       "  <thead>\n",
       "    <tr style=\"text-align: right;\">\n",
       "      <th></th>\n",
       "      <th>id</th>\n",
       "      <th>keyword</th>\n",
       "      <th>location</th>\n",
       "      <th>text</th>\n",
       "      <th>target</th>\n",
       "    </tr>\n",
       "  </thead>\n",
       "  <tbody>\n",
       "    <tr>\n",
       "      <th>0</th>\n",
       "      <td>1</td>\n",
       "      <td>fire</td>\n",
       "      <td>Chicago, IL</td>\n",
       "      <td>deeds reason earthquake may allah forgive us</td>\n",
       "      <td>1</td>\n",
       "    </tr>\n",
       "    <tr>\n",
       "      <th>1</th>\n",
       "      <td>4</td>\n",
       "      <td>fire</td>\n",
       "      <td>California</td>\n",
       "      <td>forest fire near la ronge sask canada</td>\n",
       "      <td>1</td>\n",
       "    </tr>\n",
       "    <tr>\n",
       "      <th>2</th>\n",
       "      <td>5</td>\n",
       "      <td>fire</td>\n",
       "      <td>Chicago, IL</td>\n",
       "      <td>residents asked shelter place notified officer...</td>\n",
       "      <td>1</td>\n",
       "    </tr>\n",
       "    <tr>\n",
       "      <th>3</th>\n",
       "      <td>6</td>\n",
       "      <td>fire</td>\n",
       "      <td>Australia</td>\n",
       "      <td>people receive wildfires evacuation orders cal...</td>\n",
       "      <td>1</td>\n",
       "    </tr>\n",
       "    <tr>\n",
       "      <th>4</th>\n",
       "      <td>7</td>\n",
       "      <td>fire</td>\n",
       "      <td>Nigeria</td>\n",
       "      <td>got sent photo ruby alaska smoke wildfires pou...</td>\n",
       "      <td>1</td>\n",
       "    </tr>\n",
       "  </tbody>\n",
       "</table>\n",
       "</div>"
      ],
      "text/plain": [
       "   id keyword     location                                               text  \\\n",
       "0   1    fire  Chicago, IL       deeds reason earthquake may allah forgive us   \n",
       "1   4    fire   California              forest fire near la ronge sask canada   \n",
       "2   5    fire  Chicago, IL  residents asked shelter place notified officer...   \n",
       "3   6    fire    Australia  people receive wildfires evacuation orders cal...   \n",
       "4   7    fire      Nigeria  got sent photo ruby alaska smoke wildfires pou...   \n",
       "\n",
       "   target  \n",
       "0       1  \n",
       "1       1  \n",
       "2       1  \n",
       "3       1  \n",
       "4       1  "
      ]
     },
     "execution_count": 39,
     "metadata": {},
     "output_type": "execute_result"
    }
   ],
   "source": [
    "#Remove Engilsh stopwords\n",
    "\n",
    "nltk.download('stopwords')\n",
    "stopWords = set(stopwords.words('english'))\n",
    "\n",
    "def stopwordsRemoval(text):\n",
    "    return \" \".join([word for word in str(text).split() if word not in stopWords])\n",
    "\n",
    "df_train[\"text\"] = df_train[\"text\"].apply(stopwordsRemoval)\n",
    "df_test[\"text\"] = df_test[\"text\"].apply(stopwordsRemoval)\n",
    "df_train.head()"
   ]
  },
  {
   "cell_type": "code",
   "execution_count": 41,
   "id": "49c032cd",
   "metadata": {},
   "outputs": [
    {
     "data": {
      "text/html": [
       "<div>\n",
       "<style scoped>\n",
       "    .dataframe tbody tr th:only-of-type {\n",
       "        vertical-align: middle;\n",
       "    }\n",
       "\n",
       "    .dataframe tbody tr th {\n",
       "        vertical-align: top;\n",
       "    }\n",
       "\n",
       "    .dataframe thead th {\n",
       "        text-align: right;\n",
       "    }\n",
       "</style>\n",
       "<table border=\"1\" class=\"dataframe\">\n",
       "  <thead>\n",
       "    <tr style=\"text-align: right;\">\n",
       "      <th></th>\n",
       "      <th>id</th>\n",
       "      <th>keyword</th>\n",
       "      <th>location</th>\n",
       "      <th>text</th>\n",
       "      <th>target</th>\n",
       "    </tr>\n",
       "  </thead>\n",
       "  <tbody>\n",
       "    <tr>\n",
       "      <th>0</th>\n",
       "      <td>1</td>\n",
       "      <td>fire</td>\n",
       "      <td>Chicago, IL</td>\n",
       "      <td>deed reason earthquake may allah forgive u</td>\n",
       "      <td>1</td>\n",
       "    </tr>\n",
       "    <tr>\n",
       "      <th>1</th>\n",
       "      <td>4</td>\n",
       "      <td>fire</td>\n",
       "      <td>California</td>\n",
       "      <td>forest fire near la ronge sask canada</td>\n",
       "      <td>1</td>\n",
       "    </tr>\n",
       "    <tr>\n",
       "      <th>2</th>\n",
       "      <td>5</td>\n",
       "      <td>fire</td>\n",
       "      <td>Chicago, IL</td>\n",
       "      <td>resident asked shelter place notified officer ...</td>\n",
       "      <td>1</td>\n",
       "    </tr>\n",
       "    <tr>\n",
       "      <th>3</th>\n",
       "      <td>6</td>\n",
       "      <td>fire</td>\n",
       "      <td>Australia</td>\n",
       "      <td>people receive wildfire evacuation order calif...</td>\n",
       "      <td>1</td>\n",
       "    </tr>\n",
       "    <tr>\n",
       "      <th>4</th>\n",
       "      <td>7</td>\n",
       "      <td>fire</td>\n",
       "      <td>Nigeria</td>\n",
       "      <td>got sent photo ruby alaska smoke wildfire pour...</td>\n",
       "      <td>1</td>\n",
       "    </tr>\n",
       "  </tbody>\n",
       "</table>\n",
       "</div>"
      ],
      "text/plain": [
       "   id keyword     location                                               text  \\\n",
       "0   1    fire  Chicago, IL         deed reason earthquake may allah forgive u   \n",
       "1   4    fire   California              forest fire near la ronge sask canada   \n",
       "2   5    fire  Chicago, IL  resident asked shelter place notified officer ...   \n",
       "3   6    fire    Australia  people receive wildfire evacuation order calif...   \n",
       "4   7    fire      Nigeria  got sent photo ruby alaska smoke wildfire pour...   \n",
       "\n",
       "   target  \n",
       "0       1  \n",
       "1       1  \n",
       "2       1  \n",
       "3       1  \n",
       "4       1  "
      ]
     },
     "execution_count": 41,
     "metadata": {},
     "output_type": "execute_result"
    }
   ],
   "source": [
    "#Perform stemming\n",
    "\n",
    "lemmatizer = WordNetLemmatizer()\n",
    "def textLemmatizer(text):\n",
    "    words = [lemmatizer.lemmatize(word) for word in text.split()]\n",
    "    text = ' '.join(words)\n",
    "    return text\n",
    "\n",
    "df_train[\"text\"] = df_train[\"text\"].apply(textLemmatizer)\n",
    "df_test[\"text\"] = df_test[\"text\"].apply(textLemmatizer)\n",
    "df_train.head()"
   ]
  },
  {
   "cell_type": "code",
   "execution_count": 44,
   "id": "b87c9cca",
   "metadata": {},
   "outputs": [],
   "source": [
    "#Make sure all data are strings\n",
    "\n",
    "df_train.tweet = df_train.text.astype(\"string\")\n",
    "df_train.keyword = df_train.keyword.astype(\"string\")\n",
    "df_train.location = df_train.location.astype(\"string\")\n",
    "\n",
    "df_test.tweet = df_test.text.astype(\"string\")\n",
    "df_test.keyword = df_test.keyword.astype(\"string\")\n",
    "df_test.location = df_test.location.astype(\"string\")"
   ]
  },
  {
   "cell_type": "code",
   "execution_count": 57,
   "id": "b47e7a8a",
   "metadata": {},
   "outputs": [],
   "source": [
    "# Defining a result function that displays the result of the different models\n",
    "#Reference: http://localhost:8888/notebooks/Python_code.ipynb#\n",
    "\n",
    "def resultsSummarizer(y_true, y_pred):\n",
    "    cm = confusion_matrix(y_true, y_pred)\n",
    "    acc = accuracy_score(y_true, y_pred)\n",
    "    prec = precision_score(y_true, y_pred, average='binary')\n",
    "    rec = recall_score(y_true, y_pred, average='binary')\n",
    "    f1 = f1_score(y_true, y_pred, average='binary')\n",
    "    \n",
    "    \n",
    "    plt.figure(figsize=(7, 7))\n",
    "    \n",
    "    sns.heatmap(cm,\n",
    "                annot=True,\n",
    "                cmap='Blues',\n",
    "               )\n",
    "    \n",
    "    plt.title('Confusion Matrix')\n",
    "    plt.xlabel('Predicted Tweet')\n",
    "    plt.ylabel('Actual Tweet')\n",
    "    plt.show()\n",
    "    \n",
    "    print(f'Accuracy Score: ' + '{:.4%}'.format(acc))\n",
    "    print(f'Precision Score: ' + '{:.4%}'.format(prec))\n",
    "    print(f'Recall Score: ' + '{:.4%}'.format(rec))\n",
    "    print(f'F_1 Score: ' + '{:.4%}'.format(f1))"
   ]
  },
  {
   "cell_type": "code",
   "execution_count": 70,
   "id": "f33c609b",
   "metadata": {},
   "outputs": [],
   "source": [
    "#Splitting full dataset in training and test set\n",
    "\n",
    "vectorizer = CountVectorizer()\n",
    "X = vectorizer.fit_transform(df_train['text'])\n",
    "y = df['target']\n",
    "\n",
    "# Split the data into training and testing sets\n",
    "X_train, X_test, y_train, y_test = train_test_split(X, y, test_size=0.25, random_state=42)"
   ]
  },
  {
   "cell_type": "code",
   "execution_count": 91,
   "id": "f2744895",
   "metadata": {},
   "outputs": [
    {
     "data": {
      "image/png": "[encoded data removed]",
      "text/plain": [
       "<Figure size 700x700 with 2 Axes>"
      ]
     },
     "metadata": {},
     "output_type": "display_data"
    },
    {
     "name": "stdout",
     "output_type": "stream",
     "text": [
      "Accuracy Score: 79.5693%\n",
      "Precision Score: 88.4058%\n",
      "Recall Score: 60.0246%\n",
      "F_1 Score: 71.5018%\n"
     ]
    }
   ],
   "source": [
    "#Random Forest Classifier Model\n",
    "rfst = RandomForestClassifier(n_estimators=100, random_state=42)\n",
    "rfst.fit(X_train, y_train)\n",
    "\n",
    "y_pred_rfst = rfst.predict(X_test)\n",
    "resultsSummarizer(y_test, y_pred_rfst)"
   ]
  },
  {
   "cell_type": "code",
   "execution_count": 59,
   "id": "e79578d5",
   "metadata": {
    "scrolled": true
   },
   "outputs": [
    {
     "data": {
      "image/png": "[encoded data removed]",
      "text/plain": [
       "<Figure size 700x700 with 2 Axes>"
      ]
     },
     "metadata": {},
     "output_type": "display_data"
    },
    {
     "name": "stdout",
     "output_type": "stream",
     "text": [
      "Accuracy Score: 81.0924%\n",
      "Precision Score: 81.5021%\n",
      "Recall Score: 72.0787%\n",
      "F_1 Score: 76.5013%\n"
     ]
    }
   ],
   "source": [
    "#Logistic regression model\n",
    "lr = LogisticRegression(max_iter=1000)\n",
    "lr.fit(X_train, y_train)\n",
    "\n",
    "y_pred_lr = lr.predict(X_test)\n",
    "\n",
    "resultsSummarizer(y_test, y_pred_lr)"
   ]
  },
  {
   "cell_type": "code",
   "execution_count": 81,
   "id": "69d31cc7",
   "metadata": {},
   "outputs": [
    {
     "data": {
      "text/plain": [
       "DecisionTreeClassifier(max_depth=23)"
      ]
     },
     "execution_count": 81,
     "metadata": {},
     "output_type": "execute_result"
    }
   ],
   "source": [
    "#Decision Tree Classifier\n",
    "dt=DecisionTreeClassifier(max_depth=23)\n",
    "dt.fit(X_train,y_train)"
   ]
  },
  {
   "cell_type": "code",
   "execution_count": 103,
   "id": "32ba8841",
   "metadata": {},
   "outputs": [
    {
     "data": {
      "text/html": [
       "<div>\n",
       "<style scoped>\n",
       "    .dataframe tbody tr th:only-of-type {\n",
       "        vertical-align: middle;\n",
       "    }\n",
       "\n",
       "    .dataframe tbody tr th {\n",
       "        vertical-align: top;\n",
       "    }\n",
       "\n",
       "    .dataframe thead th {\n",
       "        text-align: right;\n",
       "    }\n",
       "</style>\n",
       "<table border=\"1\" class=\"dataframe\">\n",
       "  <thead>\n",
       "    <tr style=\"text-align: right;\">\n",
       "      <th></th>\n",
       "      <th>id</th>\n",
       "      <th>target</th>\n",
       "    </tr>\n",
       "  </thead>\n",
       "  <tbody>\n",
       "    <tr>\n",
       "      <th>0</th>\n",
       "      <td>0</td>\n",
       "      <td>0</td>\n",
       "    </tr>\n",
       "    <tr>\n",
       "      <th>1</th>\n",
       "      <td>2</td>\n",
       "      <td>0</td>\n",
       "    </tr>\n",
       "    <tr>\n",
       "      <th>2</th>\n",
       "      <td>3</td>\n",
       "      <td>1</td>\n",
       "    </tr>\n",
       "    <tr>\n",
       "      <th>3</th>\n",
       "      <td>9</td>\n",
       "      <td>0</td>\n",
       "    </tr>\n",
       "    <tr>\n",
       "      <th>4</th>\n",
       "      <td>11</td>\n",
       "      <td>0</td>\n",
       "    </tr>\n",
       "    <tr>\n",
       "      <th>...</th>\n",
       "      <td>...</td>\n",
       "      <td>...</td>\n",
       "    </tr>\n",
       "    <tr>\n",
       "      <th>1899</th>\n",
       "      <td>6409</td>\n",
       "      <td>0</td>\n",
       "    </tr>\n",
       "    <tr>\n",
       "      <th>1900</th>\n",
       "      <td>6411</td>\n",
       "      <td>1</td>\n",
       "    </tr>\n",
       "    <tr>\n",
       "      <th>1901</th>\n",
       "      <td>6419</td>\n",
       "      <td>1</td>\n",
       "    </tr>\n",
       "    <tr>\n",
       "      <th>1902</th>\n",
       "      <td>6424</td>\n",
       "      <td>0</td>\n",
       "    </tr>\n",
       "    <tr>\n",
       "      <th>1903</th>\n",
       "      <td>6426</td>\n",
       "      <td>0</td>\n",
       "    </tr>\n",
       "  </tbody>\n",
       "</table>\n",
       "<p>1904 rows × 2 columns</p>\n",
       "</div>"
      ],
      "text/plain": [
       "        id  target\n",
       "0        0       0\n",
       "1        2       0\n",
       "2        3       1\n",
       "3        9       0\n",
       "4       11       0\n",
       "...    ...     ...\n",
       "1899  6409       0\n",
       "1900  6411       1\n",
       "1901  6419       1\n",
       "1902  6424       0\n",
       "1903  6426       0\n",
       "\n",
       "[1904 rows x 2 columns]"
      ]
     },
     "execution_count": 103,
     "metadata": {},
     "output_type": "execute_result"
    }
   ],
   "source": [
    "#Submission\n",
    "\n",
    "submission = df_test[[\"id\"]][:1904]\n",
    "submission[\"target\"] = y_pred_rfst\n",
    "submission"
   ]
  },
  {
   "cell_type": "code",
   "execution_count": null,
   "id": "264543f5",
   "metadata": {},
   "outputs": [],
   "source": []
  }
 ],
 "metadata": {
  "kernelspec": {
   "display_name": "Python 3 (ipykernel)",
   "language": "python",
   "name": "python3"
  },
  "language_info": {
   "codemirror_mode": {
    "name": "ipython",
    "version": 3
   },
   "file_extension": ".py",
   "mimetype": "text/x-python",
   "name": "python",
   "nbconvert_exporter": "python",
   "pygments_lexer": "ipython3",
   "version": "3.9.13"
  }
 },
 "nbformat": 4,
 "nbformat_minor": 5
}
